{
 "cells": [
  {
   "cell_type": "markdown",
   "id": "42747d4d",
   "metadata": {},
   "source": [
    "# ЛАБОРАТОРНАЯ РАБОТА №2."
   ]
  },
  {
   "cell_type": "markdown",
   "id": "e6a7bbc4",
   "metadata": {},
   "source": [
    "## ИТЕРАЦИОННЫЕ МЕТОДЫ РЕШЕНИЯ СИСТЕМ НЕЛИНЕЙНЫХ УРАВНЕНИЙ."
   ]
  },
  {
   "cell_type": "markdown",
   "id": "088feb3e",
   "metadata": {},
   "source": [
    "### Система нелинейных уравнений\n",
    "$$\\begin{cases} \n",
    "x - y + 2 = 0 \\\\ \n",
    "xy - 3 = 0 \n",
    "\\end{cases}$$\n",
    "\n",
    "### Начальное приближение\n",
    "\n",
    "$$(-1,-3)$$"
   ]
  },
  {
   "cell_type": "markdown",
   "id": "48d98535",
   "metadata": {},
   "source": [
    "### Программная реализация методов"
   ]
  },
  {
   "cell_type": "code",
   "execution_count": 1,
   "id": "5f710c49",
   "metadata": {},
   "outputs": [],
   "source": [
    "import math\n",
    "\n",
    "eps = 0.001  # Точность\n",
    "x = -1\n",
    "y = -3  # Начальное приближение"
   ]
  },
  {
   "cell_type": "markdown",
   "id": "704e2fd2",
   "metadata": {},
   "source": [
    "### Метод простых итераций"
   ]
  },
  {
   "cell_type": "code",
   "execution_count": 2,
   "id": "7199c9b4",
   "metadata": {},
   "outputs": [],
   "source": [
    "def method_simple_implications():\n",
    "    k = 0\n",
    "    x0 = x # x0 = x(k)\n",
    "    y0 = y # y0 = y(k)\n",
    "    x1 = x # x1 = x(k+1)\n",
    "    y1 = y # y1 = y(k+1)\n",
    "    modx = 0.0 # |x1 - x0|\n",
    "    mody = 0.0 # |y1 - y0|\n",
    "    print(\"| k |   x^(k)  |  x^(k+1) ||x^(k+1) - x^(k)||  y^(k)    |  y^(k+1) ||y^(k+1) - y^(k)||\")\n",
    "    print(\"|---|----------|----------|-----------------|-----------|----------|-----------------|\")\n",
    "    while True:  \n",
    "        x0 = x1\n",
    "        y0 = y1\n",
    "        x1 = x0 - 0.25 * (x0 - y0 + 2) + 0.25 * (x0 * y0 - 3)\n",
    "        y1 = y0 + 0.75 * (x0 - y0 + 2) + 0.25 * (x0 * y0 - 3) \n",
    "        modx = math.fabs(x1 - x0)\n",
    "        mody = math.fabs(y1 - y0)\n",
    "        print(f\"|{k:2d} |{x0:8.6f} |{x1:9.6f} |{modx:16.6f} |{y0:10.6f} |{y1:9.6f} |{mody:16.6f} |\")\n",
    "        k += 1\n",
    "        if modx <= eps and mody <= eps:\n",
    "            break"
   ]
  },
  {
   "cell_type": "code",
   "execution_count": 3,
   "id": "c5f026c4",
   "metadata": {
    "scrolled": true
   },
   "outputs": [
    {
     "name": "stdout",
     "output_type": "stream",
     "text": [
      "| k |   x^(k)  |  x^(k+1) ||x^(k+1) - x^(k)||  y^(k)    |  y^(k+1) ||y^(k+1) - y^(k)||\n",
      "|---|----------|----------|-----------------|-----------|----------|-----------------|\n",
      "| 0 |-1.000000 |-2.000000 |        1.000000 | -3.000000 | 0.000000 |        3.000000 |\n",
      "| 1 |-2.000000 |-2.750000 |        0.750000 |  0.000000 |-0.750000 |        0.750000 |\n",
      "| 2 |-2.750000 |-2.984375 |        0.234375 | -0.750000 |-0.984375 |        0.234375 |\n",
      "| 3 |-2.984375 |-2.999939 |        0.015564 | -0.984375 |-0.999939 |        0.015564 |\n",
      "| 4 |-2.999939 |-3.000000 |        0.000061 | -0.999939 |-1.000000 |        0.000061 |\n"
     ]
    }
   ],
   "source": [
    "method_simple_implications()"
   ]
  },
  {
   "cell_type": "markdown",
   "id": "adea6f3b",
   "metadata": {},
   "source": [
    "### Метод Ньютона"
   ]
  },
  {
   "cell_type": "code",
   "execution_count": 4,
   "id": "88f0468b",
   "metadata": {},
   "outputs": [],
   "source": [
    "def method_Newton():\n",
    "    k = 0\n",
    "    x0 = x # x0 = x(k)\n",
    "    y0 = y # y0 = y(k)\n",
    "    x1 = x # x1 = x(k+1)\n",
    "    y1 = y # y1 = y(k+1)\n",
    "    modx = 0.0 # |x1 - x0|\n",
    "    mody = 0.0 # |y1 - y0| \n",
    "    print(\"| k |   x^(k)  |  x^(k+1) ||x^(k+1) - x^(k)||  y^(k)    |  y^(k+1) ||y^(k+1) - y^(k)||\")\n",
    "    print(\"|---|----------|----------|-----------------|-----------|----------|-----------------|\")\n",
    "    while True:  \n",
    "        x0 = x1\n",
    "        y0 = y1\n",
    "        x1 = x0 - (x0 /(x0 + y0)) * (x0 - y0 + 2) -  (1 /(x0 + y0)) * (x0 * y0 - 3)\n",
    "        y1 = y0 + (y0 /(x0 + y0)) * (x0 - y0 + 2) -  (1 /(x0 + y0)) * (x0 * y0 - 3)\n",
    "        modx = math.fabs(x1 - x0)\n",
    "        mody = math.fabs(y1 - y0)\n",
    "        print(f\"|{k:2d} |{x0:8.6f} |{x1:9.6f} |{modx:16.6f} |{y0:10.6f} |{y1:9.6f} |{mody:16.6f} |\")\n",
    "        k += 1\n",
    "        if modx <= eps and mody <= eps:\n",
    "            break"
   ]
  },
  {
   "cell_type": "code",
   "execution_count": 5,
   "id": "cec27cb5",
   "metadata": {},
   "outputs": [
    {
     "name": "stdout",
     "output_type": "stream",
     "text": [
      "| k |   x^(k)  |  x^(k+1) ||x^(k+1) - x^(k)||  y^(k)    |  y^(k+1) ||y^(k+1) - y^(k)||\n",
      "|---|----------|----------|-----------------|-----------|----------|-----------------|\n",
      "| 0 |-1.000000 |-2.000000 |        1.000000 | -3.000000 | 0.000000 |        3.000000 |\n",
      "| 1 |-2.000000 |-3.500000 |        1.500000 |  0.000000 |-1.500000 |        1.500000 |\n",
      "| 2 |-3.500000 |-3.050000 |        0.450000 | -1.500000 |-1.050000 |        0.450000 |\n",
      "| 3 |-3.050000 |-3.000610 |        0.049390 | -1.050000 |-1.000610 |        0.049390 |\n",
      "| 4 |-3.000610 |-3.000000 |        0.000610 | -1.000610 |-1.000000 |        0.000610 |\n"
     ]
    }
   ],
   "source": [
    "method_Newton()"
   ]
  }
 ],
 "metadata": {
  "kernelspec": {
   "display_name": "Python 3 (ipykernel)",
   "language": "python",
   "name": "python3"
  },
  "language_info": {
   "codemirror_mode": {
    "name": "ipython",
    "version": 3
   },
   "file_extension": ".py",
   "mimetype": "text/x-python",
   "name": "python",
   "nbconvert_exporter": "python",
   "pygments_lexer": "ipython3",
   "version": "3.9.13"
  }
 },
 "nbformat": 4,
 "nbformat_minor": 5
}
